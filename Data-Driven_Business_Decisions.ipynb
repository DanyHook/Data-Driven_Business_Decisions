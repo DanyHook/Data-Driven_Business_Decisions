{
 "cells": [
  {
   "cell_type": "markdown",
   "metadata": {},
   "source": [
    "<div class=\"alert alert-block alert-success\">\n",
    "<b>Introduction</b> <a class=\"tocSkip\"></a>  \n",
    "\n",
    "The purpose of this project is to evaluate the impact of different marketing strategies on the performance of an online store. To achieve this, an A/B experiment was conducted to compare two user groups (Group A and Group B) and determine which strategy generates a greater impact on the store's revenue.\n",
    "\n",
    "<b>Project Context</b>\n",
    "\n",
    "The online store is looking for ways to increase its revenue through new marketing strategies. To identify the most effective tactics, the marketing team developed a set of hypotheses focused on improving user experience, offering promotions, and optimizing the website.\n",
    "\n",
    "<b>Objective of the Analysis</b>\n",
    "\n",
    "The main objective of this project is to analyze the A/B test results to identify which proposed strategy significantly improves key business metrics, specifically:\n",
    "\n",
    "   1. Conversion rate (the ratio of orders to visits).\n",
    "   \n",
    "   2. Average order value (average monetary value per transaction).\n",
    "\n",
    "<b>Methodology</b>\n",
    "\n",
    "The analysis was carried out in two main phases:\n",
    "\n",
    "   1. Hypothesis Prioritization:\n",
    "\n",
    "   • The ICE and RICE frameworks were used to rank the hypotheses based on their potential impact.\n",
    "\n",
    "   2. A/B Test Analysis:\n",
    "\n",
    "   • Statistical tests were performed to compare conversion rates and average order values between groups A and B.\n",
    "   \n",
    "   • The data was analyzed in both raw and filtered forms (outlier removal) to ensure the validity of the results.\n",
    "\n",
    "At the end of the analysis, a data-driven decision will be made, recommending which strategy should be implemented in the online store.\n",
    "</div>\n",
    "\n"
   ]
  },
  {
   "cell_type": "markdown",
   "metadata": {},
   "source": [
    "# Data Description"
   ]
  },
  {
   "cell_type": "markdown",
   "metadata": {},
   "source": [
    "# Load libraries"
   ]
  },
  {
   "cell_type": "code",
   "execution_count": 1,
   "metadata": {},
   "outputs": [
    {
     "name": "stdout",
     "output_type": "stream",
     "text": [
      "Libraries loaded successfully\n"
     ]
    }
   ],
   "source": [
    "import pandas as pd\n",
    "import numpy as np\n",
    "import matplotlib.pyplot as plt\n",
    "import seaborn as sns\n",
    "from scipy import stats\n",
    "print(\"Libraries loaded successfully\")"
   ]
  },
  {
   "cell_type": "code",
   "execution_count": 3,
   "metadata": {},
   "outputs": [
    {
     "name": "stdout",
     "output_type": "stream",
     "text": [
      "Data loaded successfully\n"
     ]
    }
   ],
   "source": [
    "# Load the data\n",
    "hypotheses = pd.read_csv('datasets/hypotheses_us.csv', sep=\";\")\n",
    "orders = pd.read_csv('datasets/orders_us.csv')\n",
    "visits = pd.read_csv('datasets/visits_us.csv')\n",
    "print(\"Data loaded successfully\")"
   ]
  },
  {
   "cell_type": "code",
   "execution_count": 4,
   "metadata": {},
   "outputs": [
    {
     "name": "stdout",
     "output_type": "stream",
     "text": [
      "Hypotheses:\n"
     ]
    },
    {
     "data": {
      "text/html": [
       "<div>\n",
       "<style scoped>\n",
       "    .dataframe tbody tr th:only-of-type {\n",
       "        vertical-align: middle;\n",
       "    }\n",
       "\n",
       "    .dataframe tbody tr th {\n",
       "        vertical-align: top;\n",
       "    }\n",
       "\n",
       "    .dataframe thead th {\n",
       "        text-align: right;\n",
       "    }\n",
       "</style>\n",
       "<table border=\"1\" class=\"dataframe\">\n",
       "  <thead>\n",
       "    <tr style=\"text-align: right;\">\n",
       "      <th></th>\n",
       "      <th>Hypothesis</th>\n",
       "      <th>Reach</th>\n",
       "      <th>Impact</th>\n",
       "      <th>Confidence</th>\n",
       "      <th>Effort</th>\n",
       "    </tr>\n",
       "  </thead>\n",
       "  <tbody>\n",
       "    <tr>\n",
       "      <th>0</th>\n",
       "      <td>Add two new channels for attracting traffic. T...</td>\n",
       "      <td>3</td>\n",
       "      <td>10</td>\n",
       "      <td>8</td>\n",
       "      <td>6</td>\n",
       "    </tr>\n",
       "    <tr>\n",
       "      <th>1</th>\n",
       "      <td>Launch your own delivery service. This will sh...</td>\n",
       "      <td>2</td>\n",
       "      <td>5</td>\n",
       "      <td>4</td>\n",
       "      <td>10</td>\n",
       "    </tr>\n",
       "    <tr>\n",
       "      <th>2</th>\n",
       "      <td>Add product recommendation blocks to the store...</td>\n",
       "      <td>8</td>\n",
       "      <td>3</td>\n",
       "      <td>7</td>\n",
       "      <td>3</td>\n",
       "    </tr>\n",
       "    <tr>\n",
       "      <th>3</th>\n",
       "      <td>Change the category structure. This will incre...</td>\n",
       "      <td>8</td>\n",
       "      <td>3</td>\n",
       "      <td>3</td>\n",
       "      <td>8</td>\n",
       "    </tr>\n",
       "    <tr>\n",
       "      <th>4</th>\n",
       "      <td>Change the background color on the main page. ...</td>\n",
       "      <td>3</td>\n",
       "      <td>1</td>\n",
       "      <td>1</td>\n",
       "      <td>1</td>\n",
       "    </tr>\n",
       "  </tbody>\n",
       "</table>\n",
       "</div>"
      ],
      "text/plain": [
       "                                          Hypothesis  Reach  Impact  \\\n",
       "0  Add two new channels for attracting traffic. T...      3      10   \n",
       "1  Launch your own delivery service. This will sh...      2       5   \n",
       "2  Add product recommendation blocks to the store...      8       3   \n",
       "3  Change the category structure. This will incre...      8       3   \n",
       "4  Change the background color on the main page. ...      3       1   \n",
       "\n",
       "   Confidence  Effort  \n",
       "0           8       6  \n",
       "1           4      10  \n",
       "2           7       3  \n",
       "3           3       8  \n",
       "4           1       1  "
      ]
     },
     "execution_count": 4,
     "metadata": {},
     "output_type": "execute_result"
    }
   ],
   "source": [
    "# Display first rows of each dataset\n",
    "print('Hypotheses:')\n",
    "hypotheses.head()"
   ]
  },
  {
   "cell_type": "code",
   "execution_count": 5,
   "metadata": {
    "scrolled": true
   },
   "outputs": [
    {
     "name": "stdout",
     "output_type": "stream",
     "text": [
      "\n",
      "Orders:\n"
     ]
    },
    {
     "data": {
      "text/html": [
       "<div>\n",
       "<style scoped>\n",
       "    .dataframe tbody tr th:only-of-type {\n",
       "        vertical-align: middle;\n",
       "    }\n",
       "\n",
       "    .dataframe tbody tr th {\n",
       "        vertical-align: top;\n",
       "    }\n",
       "\n",
       "    .dataframe thead th {\n",
       "        text-align: right;\n",
       "    }\n",
       "</style>\n",
       "<table border=\"1\" class=\"dataframe\">\n",
       "  <thead>\n",
       "    <tr style=\"text-align: right;\">\n",
       "      <th></th>\n",
       "      <th>transactionId</th>\n",
       "      <th>visitorId</th>\n",
       "      <th>date</th>\n",
       "      <th>revenue</th>\n",
       "      <th>group</th>\n",
       "    </tr>\n",
       "  </thead>\n",
       "  <tbody>\n",
       "    <tr>\n",
       "      <th>0</th>\n",
       "      <td>3667963787</td>\n",
       "      <td>3312258926</td>\n",
       "      <td>2019-08-15</td>\n",
       "      <td>30.4</td>\n",
       "      <td>B</td>\n",
       "    </tr>\n",
       "    <tr>\n",
       "      <th>1</th>\n",
       "      <td>2804400009</td>\n",
       "      <td>3642806036</td>\n",
       "      <td>2019-08-15</td>\n",
       "      <td>15.2</td>\n",
       "      <td>B</td>\n",
       "    </tr>\n",
       "    <tr>\n",
       "      <th>2</th>\n",
       "      <td>2961555356</td>\n",
       "      <td>4069496402</td>\n",
       "      <td>2019-08-15</td>\n",
       "      <td>10.2</td>\n",
       "      <td>A</td>\n",
       "    </tr>\n",
       "    <tr>\n",
       "      <th>3</th>\n",
       "      <td>3797467345</td>\n",
       "      <td>1196621759</td>\n",
       "      <td>2019-08-15</td>\n",
       "      <td>155.1</td>\n",
       "      <td>B</td>\n",
       "    </tr>\n",
       "    <tr>\n",
       "      <th>4</th>\n",
       "      <td>2282983706</td>\n",
       "      <td>2322279887</td>\n",
       "      <td>2019-08-15</td>\n",
       "      <td>40.5</td>\n",
       "      <td>B</td>\n",
       "    </tr>\n",
       "  </tbody>\n",
       "</table>\n",
       "</div>"
      ],
      "text/plain": [
       "   transactionId   visitorId        date  revenue group\n",
       "0     3667963787  3312258926  2019-08-15     30.4     B\n",
       "1     2804400009  3642806036  2019-08-15     15.2     B\n",
       "2     2961555356  4069496402  2019-08-15     10.2     A\n",
       "3     3797467345  1196621759  2019-08-15    155.1     B\n",
       "4     2282983706  2322279887  2019-08-15     40.5     B"
      ]
     },
     "execution_count": 5,
     "metadata": {},
     "output_type": "execute_result"
    }
   ],
   "source": [
    "print('\\nOrders:')\n",
    "orders.head()"
   ]
  },
  {
   "cell_type": "code",
   "execution_count": 6,
   "metadata": {},
   "outputs": [
    {
     "name": "stdout",
     "output_type": "stream",
     "text": [
      "\n",
      "Visits:\n"
     ]
    },
    {
     "data": {
      "text/html": [
       "<div>\n",
       "<style scoped>\n",
       "    .dataframe tbody tr th:only-of-type {\n",
       "        vertical-align: middle;\n",
       "    }\n",
       "\n",
       "    .dataframe tbody tr th {\n",
       "        vertical-align: top;\n",
       "    }\n",
       "\n",
       "    .dataframe thead th {\n",
       "        text-align: right;\n",
       "    }\n",
       "</style>\n",
       "<table border=\"1\" class=\"dataframe\">\n",
       "  <thead>\n",
       "    <tr style=\"text-align: right;\">\n",
       "      <th></th>\n",
       "      <th>date</th>\n",
       "      <th>group</th>\n",
       "      <th>visits</th>\n",
       "    </tr>\n",
       "  </thead>\n",
       "  <tbody>\n",
       "    <tr>\n",
       "      <th>0</th>\n",
       "      <td>2019-08-01</td>\n",
       "      <td>A</td>\n",
       "      <td>719</td>\n",
       "    </tr>\n",
       "    <tr>\n",
       "      <th>1</th>\n",
       "      <td>2019-08-02</td>\n",
       "      <td>A</td>\n",
       "      <td>619</td>\n",
       "    </tr>\n",
       "    <tr>\n",
       "      <th>2</th>\n",
       "      <td>2019-08-03</td>\n",
       "      <td>A</td>\n",
       "      <td>507</td>\n",
       "    </tr>\n",
       "    <tr>\n",
       "      <th>3</th>\n",
       "      <td>2019-08-04</td>\n",
       "      <td>A</td>\n",
       "      <td>717</td>\n",
       "    </tr>\n",
       "    <tr>\n",
       "      <th>4</th>\n",
       "      <td>2019-08-05</td>\n",
       "      <td>A</td>\n",
       "      <td>756</td>\n",
       "    </tr>\n",
       "  </tbody>\n",
       "</table>\n",
       "</div>"
      ],
      "text/plain": [
       "         date group  visits\n",
       "0  2019-08-01     A     719\n",
       "1  2019-08-02     A     619\n",
       "2  2019-08-03     A     507\n",
       "3  2019-08-04     A     717\n",
       "4  2019-08-05     A     756"
      ]
     },
     "execution_count": 6,
     "metadata": {},
     "output_type": "execute_result"
    }
   ],
   "source": [
    "print('\\nVisits:')\n",
    "visits.head()"
   ]
  },
  {
   "cell_type": "markdown",
   "metadata": {},
   "source": [
    "## Prioritize Hypotheses"
   ]
  },
  {
   "cell_type": "code",
   "execution_count": 6,
   "metadata": {},
   "outputs": [
    {
     "name": "stdout",
     "output_type": "stream",
     "text": [
      "\n",
      "Priority by ICE:\n"
     ]
    },
    {
     "data": {
      "text/html": [
       "<div>\n",
       "<style scoped>\n",
       "    .dataframe tbody tr th:only-of-type {\n",
       "        vertical-align: middle;\n",
       "    }\n",
       "\n",
       "    .dataframe tbody tr th {\n",
       "        vertical-align: top;\n",
       "    }\n",
       "\n",
       "    .dataframe thead th {\n",
       "        text-align: right;\n",
       "    }\n",
       "</style>\n",
       "<table border=\"1\" class=\"dataframe\">\n",
       "  <thead>\n",
       "    <tr style=\"text-align: right;\">\n",
       "      <th></th>\n",
       "      <th>Hypothesis</th>\n",
       "      <th>ICE</th>\n",
       "    </tr>\n",
       "  </thead>\n",
       "  <tbody>\n",
       "    <tr>\n",
       "      <th>8</th>\n",
       "      <td>Launch a promotion that gives users discounts ...</td>\n",
       "      <td>16.200000</td>\n",
       "    </tr>\n",
       "    <tr>\n",
       "      <th>0</th>\n",
       "      <td>Add two new channels for attracting traffic. T...</td>\n",
       "      <td>13.333333</td>\n",
       "    </tr>\n",
       "    <tr>\n",
       "      <th>7</th>\n",
       "      <td>Add a subscription form to all the main pages....</td>\n",
       "      <td>11.200000</td>\n",
       "    </tr>\n",
       "    <tr>\n",
       "      <th>6</th>\n",
       "      <td>Show banners with current offers and sales on ...</td>\n",
       "      <td>8.000000</td>\n",
       "    </tr>\n",
       "    <tr>\n",
       "      <th>2</th>\n",
       "      <td>Add product recommendation blocks to the store...</td>\n",
       "      <td>7.000000</td>\n",
       "    </tr>\n",
       "    <tr>\n",
       "      <th>1</th>\n",
       "      <td>Launch your own delivery service. This will sh...</td>\n",
       "      <td>2.000000</td>\n",
       "    </tr>\n",
       "    <tr>\n",
       "      <th>5</th>\n",
       "      <td>Add a customer review page. This will increase...</td>\n",
       "      <td>1.333333</td>\n",
       "    </tr>\n",
       "    <tr>\n",
       "      <th>3</th>\n",
       "      <td>Change the category structure. This will incre...</td>\n",
       "      <td>1.125000</td>\n",
       "    </tr>\n",
       "    <tr>\n",
       "      <th>4</th>\n",
       "      <td>Change the background color on the main page. ...</td>\n",
       "      <td>1.000000</td>\n",
       "    </tr>\n",
       "  </tbody>\n",
       "</table>\n",
       "</div>"
      ],
      "text/plain": [
       "                                          Hypothesis        ICE\n",
       "8  Launch a promotion that gives users discounts ...  16.200000\n",
       "0  Add two new channels for attracting traffic. T...  13.333333\n",
       "7  Add a subscription form to all the main pages....  11.200000\n",
       "6  Show banners with current offers and sales on ...   8.000000\n",
       "2  Add product recommendation blocks to the store...   7.000000\n",
       "1  Launch your own delivery service. This will sh...   2.000000\n",
       "5  Add a customer review page. This will increase...   1.333333\n",
       "3  Change the category structure. This will incre...   1.125000\n",
       "4  Change the background color on the main page. ...   1.000000"
      ]
     },
     "metadata": {},
     "output_type": "display_data"
    }
   ],
   "source": [
    "# Calculate ICE\n",
    "hypotheses['ICE'] = (hypotheses['Impact'] * hypotheses['Confidence']) / hypotheses['Effort']\n",
    "hypotheses_ice = hypotheses[['Hypothesis', 'ICE']].sort_values(by='ICE', ascending=False)\n",
    "print('\\nPriority by ICE:')\n",
    "display(hypotheses_ice)"
   ]
  },
  {
   "cell_type": "code",
   "execution_count": 9,
   "metadata": {},
   "outputs": [
    {
     "name": "stdout",
     "output_type": "stream",
     "text": [
      "\n",
      "Priority by RICE:\n"
     ]
    },
    {
     "data": {
      "text/html": [
       "<div>\n",
       "<style scoped>\n",
       "    .dataframe tbody tr th:only-of-type {\n",
       "        vertical-align: middle;\n",
       "    }\n",
       "\n",
       "    .dataframe tbody tr th {\n",
       "        vertical-align: top;\n",
       "    }\n",
       "\n",
       "    .dataframe thead th {\n",
       "        text-align: right;\n",
       "    }\n",
       "</style>\n",
       "<table border=\"1\" class=\"dataframe\">\n",
       "  <thead>\n",
       "    <tr style=\"text-align: right;\">\n",
       "      <th></th>\n",
       "      <th>Hypothesis</th>\n",
       "      <th>RICE</th>\n",
       "    </tr>\n",
       "  </thead>\n",
       "  <tbody>\n",
       "    <tr>\n",
       "      <th>7</th>\n",
       "      <td>Add a subscription form to all the main pages....</td>\n",
       "      <td>112.0</td>\n",
       "    </tr>\n",
       "    <tr>\n",
       "      <th>2</th>\n",
       "      <td>Add product recommendation blocks to the store...</td>\n",
       "      <td>56.0</td>\n",
       "    </tr>\n",
       "    <tr>\n",
       "      <th>0</th>\n",
       "      <td>Add two new channels for attracting traffic. T...</td>\n",
       "      <td>40.0</td>\n",
       "    </tr>\n",
       "    <tr>\n",
       "      <th>6</th>\n",
       "      <td>Show banners with current offers and sales on ...</td>\n",
       "      <td>40.0</td>\n",
       "    </tr>\n",
       "    <tr>\n",
       "      <th>8</th>\n",
       "      <td>Launch a promotion that gives users discounts ...</td>\n",
       "      <td>16.2</td>\n",
       "    </tr>\n",
       "    <tr>\n",
       "      <th>3</th>\n",
       "      <td>Change the category structure. This will incre...</td>\n",
       "      <td>9.0</td>\n",
       "    </tr>\n",
       "    <tr>\n",
       "      <th>1</th>\n",
       "      <td>Launch your own delivery service. This will sh...</td>\n",
       "      <td>4.0</td>\n",
       "    </tr>\n",
       "    <tr>\n",
       "      <th>5</th>\n",
       "      <td>Add a customer review page. This will increase...</td>\n",
       "      <td>4.0</td>\n",
       "    </tr>\n",
       "    <tr>\n",
       "      <th>4</th>\n",
       "      <td>Change the background color on the main page. ...</td>\n",
       "      <td>3.0</td>\n",
       "    </tr>\n",
       "  </tbody>\n",
       "</table>\n",
       "</div>"
      ],
      "text/plain": [
       "                                          Hypothesis   RICE\n",
       "7  Add a subscription form to all the main pages....  112.0\n",
       "2  Add product recommendation blocks to the store...   56.0\n",
       "0  Add two new channels for attracting traffic. T...   40.0\n",
       "6  Show banners with current offers and sales on ...   40.0\n",
       "8  Launch a promotion that gives users discounts ...   16.2\n",
       "3  Change the category structure. This will incre...    9.0\n",
       "1  Launch your own delivery service. This will sh...    4.0\n",
       "5  Add a customer review page. This will increase...    4.0\n",
       "4  Change the background color on the main page. ...    3.0"
      ]
     },
     "metadata": {},
     "output_type": "display_data"
    }
   ],
   "source": [
    "# Calculate RICE\n",
    "hypotheses['RICE'] = (hypotheses['Reach'] * hypotheses['Impact'] * hypotheses['Confidence']) / hypotheses['Effort']\n",
    "hypotheses_rice = hypotheses[['Hypothesis', 'RICE']].sort_values(by='RICE', ascending=False)\n",
    "print('\\nPriority by RICE:')\n",
    "display(hypotheses_rice)"
   ]
  },
  {
   "cell_type": "code",
   "execution_count": 10,
   "metadata": {
    "scrolled": true
   },
   "outputs": [
    {
     "name": "stdout",
     "output_type": "stream",
     "text": [
      "\n",
      "Comparison of Priorities (ICE vs RICE):\n"
     ]
    },
    {
     "data": {
      "text/html": [
       "<div>\n",
       "<style scoped>\n",
       "    .dataframe tbody tr th:only-of-type {\n",
       "        vertical-align: middle;\n",
       "    }\n",
       "\n",
       "    .dataframe tbody tr th {\n",
       "        vertical-align: top;\n",
       "    }\n",
       "\n",
       "    .dataframe thead th {\n",
       "        text-align: right;\n",
       "    }\n",
       "</style>\n",
       "<table border=\"1\" class=\"dataframe\">\n",
       "  <thead>\n",
       "    <tr style=\"text-align: right;\">\n",
       "      <th></th>\n",
       "      <th>Hypothesis</th>\n",
       "      <th>ICE</th>\n",
       "      <th>Hypothesis</th>\n",
       "      <th>RICE</th>\n",
       "    </tr>\n",
       "  </thead>\n",
       "  <tbody>\n",
       "    <tr>\n",
       "      <th>8</th>\n",
       "      <td>Launch a promotion that gives users discounts ...</td>\n",
       "      <td>16.200000</td>\n",
       "      <td>Launch a promotion that gives users discounts ...</td>\n",
       "      <td>16.2</td>\n",
       "    </tr>\n",
       "    <tr>\n",
       "      <th>0</th>\n",
       "      <td>Add two new channels for attracting traffic. T...</td>\n",
       "      <td>13.333333</td>\n",
       "      <td>Add two new channels for attracting traffic. T...</td>\n",
       "      <td>40.0</td>\n",
       "    </tr>\n",
       "    <tr>\n",
       "      <th>7</th>\n",
       "      <td>Add a subscription form to all the main pages....</td>\n",
       "      <td>11.200000</td>\n",
       "      <td>Add a subscription form to all the main pages....</td>\n",
       "      <td>112.0</td>\n",
       "    </tr>\n",
       "    <tr>\n",
       "      <th>6</th>\n",
       "      <td>Show banners with current offers and sales on ...</td>\n",
       "      <td>8.000000</td>\n",
       "      <td>Show banners with current offers and sales on ...</td>\n",
       "      <td>40.0</td>\n",
       "    </tr>\n",
       "    <tr>\n",
       "      <th>2</th>\n",
       "      <td>Add product recommendation blocks to the store...</td>\n",
       "      <td>7.000000</td>\n",
       "      <td>Add product recommendation blocks to the store...</td>\n",
       "      <td>56.0</td>\n",
       "    </tr>\n",
       "    <tr>\n",
       "      <th>1</th>\n",
       "      <td>Launch your own delivery service. This will sh...</td>\n",
       "      <td>2.000000</td>\n",
       "      <td>Launch your own delivery service. This will sh...</td>\n",
       "      <td>4.0</td>\n",
       "    </tr>\n",
       "    <tr>\n",
       "      <th>5</th>\n",
       "      <td>Add a customer review page. This will increase...</td>\n",
       "      <td>1.333333</td>\n",
       "      <td>Add a customer review page. This will increase...</td>\n",
       "      <td>4.0</td>\n",
       "    </tr>\n",
       "    <tr>\n",
       "      <th>3</th>\n",
       "      <td>Change the category structure. This will incre...</td>\n",
       "      <td>1.125000</td>\n",
       "      <td>Change the category structure. This will incre...</td>\n",
       "      <td>9.0</td>\n",
       "    </tr>\n",
       "    <tr>\n",
       "      <th>4</th>\n",
       "      <td>Change the background color on the main page. ...</td>\n",
       "      <td>1.000000</td>\n",
       "      <td>Change the background color on the main page. ...</td>\n",
       "      <td>3.0</td>\n",
       "    </tr>\n",
       "  </tbody>\n",
       "</table>\n",
       "</div>"
      ],
      "text/plain": [
       "                                          Hypothesis        ICE  \\\n",
       "8  Launch a promotion that gives users discounts ...  16.200000   \n",
       "0  Add two new channels for attracting traffic. T...  13.333333   \n",
       "7  Add a subscription form to all the main pages....  11.200000   \n",
       "6  Show banners with current offers and sales on ...   8.000000   \n",
       "2  Add product recommendation blocks to the store...   7.000000   \n",
       "1  Launch your own delivery service. This will sh...   2.000000   \n",
       "5  Add a customer review page. This will increase...   1.333333   \n",
       "3  Change the category structure. This will incre...   1.125000   \n",
       "4  Change the background color on the main page. ...   1.000000   \n",
       "\n",
       "                                          Hypothesis   RICE  \n",
       "8  Launch a promotion that gives users discounts ...   16.2  \n",
       "0  Add two new channels for attracting traffic. T...   40.0  \n",
       "7  Add a subscription form to all the main pages....  112.0  \n",
       "6  Show banners with current offers and sales on ...   40.0  \n",
       "2  Add product recommendation blocks to the store...   56.0  \n",
       "1  Launch your own delivery service. This will sh...    4.0  \n",
       "5  Add a customer review page. This will increase...    4.0  \n",
       "3  Change the category structure. This will incre...    9.0  \n",
       "4  Change the background color on the main page. ...    3.0  "
      ]
     },
     "metadata": {},
     "output_type": "display_data"
    }
   ],
   "source": [
    "# Comparison ICE vs RICE\n",
    "print('\\nComparison of Priorities (ICE vs RICE):')\n",
    "display(pd.concat([hypotheses_ice, hypotheses_rice], axis=1))"
   ]
  },
  {
   "cell_type": "markdown",
   "metadata": {},
   "source": [
    "### Hypothesis Prioritization Analysis Using ICE and RICE Frameworks\n",
    "\n",
    "#### 🔍 Key Observations:\n",
    "\n",
    "1. Difference in Prioritization:\n",
    "\n",
    "    • The ICE framework ranks the discount promotions hypothesis highest (ICE: 16.2), \n",
    "      followed by new traffic channels (ICE: 13.33) and adding subscription forms (ICE: 11.2).\n",
    "\n",
    "    • In contrast, the RICE framework prioritizes the subscription form hypothesis (RICE: 112), \n",
    "      followed by product recommendation blocks (RICE: 56) and new traffic channels (RICE: 40).\n",
    "\n",
    "⸻\n",
    "\n",
    "#### 🧠 Explanation of the Differences:\n",
    "\n",
    "1. Main Difference Between ICE and RICE:\n",
    "\n",
    "    • The key distinction is the Reach factor, which RICE includes and ICE does not.\n",
    "\n",
    "    • The subscription form has a high reach value, making it significantly more prioritized in RICE.\n",
    "\n",
    "    • In ICE, where only Impact, Confidence, and Effort are considered, \n",
    "      the discount promotions hypothesis ranks highest due to strong impact and confidence.\n",
    "\n",
    "2. Impact of Reach:\n",
    "\n",
    "    • The subscription form’s jump to the top in RICE suggests that even with moderate impact, \n",
    "      a high potential reach makes it a strategic option.\n",
    "\n",
    "    • Meanwhile, the high impact and confidence of discount promotions still keep them relevant \n",
    "      in RICE, though with a lower ranking due to limited reach.\n",
    "\n",
    "3. Low-Priority Options in Both Methods:\n",
    "\n",
    "    • Hypotheses such as changing the homepage background color and adding a customer review page \n",
    "      remain at the bottom of both rankings. This suggests they are unlikely to produce significant \n",
    "      impact or reach.\n",
    "\n",
    "⸻\n",
    "\n",
    "#### ✅ Conclusions:\n",
    "\n",
    "1. Decision Based on RICE:\n",
    "\n",
    "    • Since reach is crucial to maximizing revenue in an online store, RICE provides a more \n",
    "      strategic prioritization method.\n",
    "\n",
    "    • Implementing subscription forms and product recommendation blocks may yield \n",
    "      higher returns by affecting a larger number of users.\n",
    "\n",
    "2. Decision Based on ICE:\n",
    "\n",
    "    • If the goal is to implement a high-impact idea quickly with limited resources, \n",
    "      ICE is more suitable — in that case, discount promotions would be the top choice.\n",
    "\n",
    "3. Recommendation:\n",
    "\n",
    "    • Use the RICE framework to prioritize actions, as reach plays a fundamental role \n",
    "      in driving results in an e-commerce environment."
   ]
  },
  {
   "cell_type": "code",
   "execution_count": 11,
   "metadata": {},
   "outputs": [
    {
     "name": "stdout",
     "output_type": "stream",
     "text": [
      "Number of users found in both groups: 58\n",
      "Number of records after removing duplicates: 1016\n",
      "Preview of the cleaned data:\n"
     ]
    },
    {
     "data": {
      "text/html": [
       "<div>\n",
       "<style scoped>\n",
       "    .dataframe tbody tr th:only-of-type {\n",
       "        vertical-align: middle;\n",
       "    }\n",
       "\n",
       "    .dataframe tbody tr th {\n",
       "        vertical-align: top;\n",
       "    }\n",
       "\n",
       "    .dataframe thead th {\n",
       "        text-align: right;\n",
       "    }\n",
       "</style>\n",
       "<table border=\"1\" class=\"dataframe\">\n",
       "  <thead>\n",
       "    <tr style=\"text-align: right;\">\n",
       "      <th></th>\n",
       "      <th>transactionId</th>\n",
       "      <th>visitorId</th>\n",
       "      <th>date</th>\n",
       "      <th>revenue</th>\n",
       "      <th>group</th>\n",
       "    </tr>\n",
       "  </thead>\n",
       "  <tbody>\n",
       "    <tr>\n",
       "      <th>0</th>\n",
       "      <td>3667963787</td>\n",
       "      <td>3312258926</td>\n",
       "      <td>2019-08-15</td>\n",
       "      <td>30.4</td>\n",
       "      <td>B</td>\n",
       "    </tr>\n",
       "    <tr>\n",
       "      <th>1</th>\n",
       "      <td>2804400009</td>\n",
       "      <td>3642806036</td>\n",
       "      <td>2019-08-15</td>\n",
       "      <td>15.2</td>\n",
       "      <td>B</td>\n",
       "    </tr>\n",
       "    <tr>\n",
       "      <th>3</th>\n",
       "      <td>3797467345</td>\n",
       "      <td>1196621759</td>\n",
       "      <td>2019-08-15</td>\n",
       "      <td>155.1</td>\n",
       "      <td>B</td>\n",
       "    </tr>\n",
       "    <tr>\n",
       "      <th>4</th>\n",
       "      <td>2282983706</td>\n",
       "      <td>2322279887</td>\n",
       "      <td>2019-08-15</td>\n",
       "      <td>40.5</td>\n",
       "      <td>B</td>\n",
       "    </tr>\n",
       "    <tr>\n",
       "      <th>5</th>\n",
       "      <td>182168103</td>\n",
       "      <td>935554773</td>\n",
       "      <td>2019-08-15</td>\n",
       "      <td>35.0</td>\n",
       "      <td>B</td>\n",
       "    </tr>\n",
       "  </tbody>\n",
       "</table>\n",
       "</div>"
      ],
      "text/plain": [
       "   transactionId   visitorId        date  revenue group\n",
       "0     3667963787  3312258926  2019-08-15     30.4     B\n",
       "1     2804400009  3642806036  2019-08-15     15.2     B\n",
       "3     3797467345  1196621759  2019-08-15    155.1     B\n",
       "4     2282983706  2322279887  2019-08-15     40.5     B\n",
       "5      182168103   935554773  2019-08-15     35.0     B"
      ]
     },
     "metadata": {},
     "output_type": "display_data"
    }
   ],
   "source": [
    "# Identify users who are in both groups\n",
    "duplicate_users = orders.groupby('visitorId')['group'].nunique()\n",
    "repeated_users = duplicate_users[duplicate_users > 1].index\n",
    "\n",
    "print(f\"Number of users found in both groups: {len(repeated_users)}\")\n",
    "\n",
    "# Filter orders by removing users who are in both groups\n",
    "cleaned_orders = orders[~orders['visitorId'].isin(repeated_users)]\n",
    "\n",
    "print(f\"Number of records after removing duplicates: {len(cleaned_orders)}\")\n",
    "\n",
    "# Preview of the cleaned dataset\n",
    "print(\"Preview of the cleaned data:\")\n",
    "display(cleaned_orders.head())"
   ]
  },
  {
   "cell_type": "markdown",
   "metadata": {},
   "source": [
    "## A/B Test Analysis"
   ]
  },
  {
   "cell_type": "code",
   "execution_count": 12,
   "metadata": {},
   "outputs": [
    {
     "name": "stdout",
     "output_type": "stream",
     "text": [
      "Date conversion completed successfully.\n"
     ]
    }
   ],
   "source": [
    "# Data preprocessing\n",
    "# Ensure cleaned_orders is an independent copy\n",
    "cleaned_orders = orders[~orders['visitorId'].isin(repeated_users)].copy()\n",
    "\n",
    "# Safely convert the date column\n",
    "cleaned_orders['date'] = pd.to_datetime(cleaned_orders['date'])\n",
    "visits['date'] = pd.to_datetime(visits['date'])\n",
    "\n",
    "print(\"Date conversion completed successfully.\")"
   ]
  },
  {
   "cell_type": "code",
   "execution_count": 13,
   "metadata": {},
   "outputs": [
    {
     "name": "stdout",
     "output_type": "stream",
     "text": [
      "\n",
      "Duplicates in Orders: 0\n",
      "Duplicates in Visits: 0\n"
     ]
    }
   ],
   "source": [
    "# Check for duplicate data\n",
    "print('\\nDuplicates in Orders:', cleaned_orders.duplicated().sum())\n",
    "print('Duplicates in Visits:', visits.duplicated().sum())"
   ]
  },
  {
   "cell_type": "code",
   "execution_count": 14,
   "metadata": {},
   "outputs": [
    {
     "name": "stdout",
     "output_type": "stream",
     "text": [
      "\n",
      "Orders Data Summary:\n"
     ]
    },
    {
     "data": {
      "text/html": [
       "<div>\n",
       "<style scoped>\n",
       "    .dataframe tbody tr th:only-of-type {\n",
       "        vertical-align: middle;\n",
       "    }\n",
       "\n",
       "    .dataframe tbody tr th {\n",
       "        vertical-align: top;\n",
       "    }\n",
       "\n",
       "    .dataframe thead th {\n",
       "        text-align: right;\n",
       "    }\n",
       "</style>\n",
       "<table border=\"1\" class=\"dataframe\">\n",
       "  <thead>\n",
       "    <tr style=\"text-align: right;\">\n",
       "      <th></th>\n",
       "      <th>transactionId</th>\n",
       "      <th>visitorId</th>\n",
       "      <th>date</th>\n",
       "      <th>revenue</th>\n",
       "    </tr>\n",
       "  </thead>\n",
       "  <tbody>\n",
       "    <tr>\n",
       "      <th>count</th>\n",
       "      <td>1.016000e+03</td>\n",
       "      <td>1.016000e+03</td>\n",
       "      <td>1016</td>\n",
       "      <td>1016.000000</td>\n",
       "    </tr>\n",
       "    <tr>\n",
       "      <th>mean</th>\n",
       "      <td>2.155085e+09</td>\n",
       "      <td>2.128677e+09</td>\n",
       "      <td>2019-08-15 07:47:42.992125952</td>\n",
       "      <td>130.770866</td>\n",
       "    </tr>\n",
       "    <tr>\n",
       "      <th>min</th>\n",
       "      <td>1.062393e+06</td>\n",
       "      <td>5.114589e+06</td>\n",
       "      <td>2019-08-01 00:00:00</td>\n",
       "      <td>5.000000</td>\n",
       "    </tr>\n",
       "    <tr>\n",
       "      <th>25%</th>\n",
       "      <td>1.143481e+09</td>\n",
       "      <td>1.043655e+09</td>\n",
       "      <td>2019-08-07 00:00:00</td>\n",
       "      <td>20.775000</td>\n",
       "    </tr>\n",
       "    <tr>\n",
       "      <th>50%</th>\n",
       "      <td>2.144499e+09</td>\n",
       "      <td>2.150274e+09</td>\n",
       "      <td>2019-08-15 00:00:00</td>\n",
       "      <td>50.100000</td>\n",
       "    </tr>\n",
       "    <tr>\n",
       "      <th>75%</th>\n",
       "      <td>3.256513e+09</td>\n",
       "      <td>3.146991e+09</td>\n",
       "      <td>2019-08-23 00:00:00</td>\n",
       "      <td>126.950000</td>\n",
       "    </tr>\n",
       "    <tr>\n",
       "      <th>max</th>\n",
       "      <td>4.288552e+09</td>\n",
       "      <td>4.283872e+09</td>\n",
       "      <td>2019-08-31 00:00:00</td>\n",
       "      <td>19920.400000</td>\n",
       "    </tr>\n",
       "    <tr>\n",
       "      <th>std</th>\n",
       "      <td>1.234372e+09</td>\n",
       "      <td>1.221578e+09</td>\n",
       "      <td>NaN</td>\n",
       "      <td>648.079810</td>\n",
       "    </tr>\n",
       "  </tbody>\n",
       "</table>\n",
       "</div>"
      ],
      "text/plain": [
       "       transactionId     visitorId                           date  \\\n",
       "count   1.016000e+03  1.016000e+03                           1016   \n",
       "mean    2.155085e+09  2.128677e+09  2019-08-15 07:47:42.992125952   \n",
       "min     1.062393e+06  5.114589e+06            2019-08-01 00:00:00   \n",
       "25%     1.143481e+09  1.043655e+09            2019-08-07 00:00:00   \n",
       "50%     2.144499e+09  2.150274e+09            2019-08-15 00:00:00   \n",
       "75%     3.256513e+09  3.146991e+09            2019-08-23 00:00:00   \n",
       "max     4.288552e+09  4.283872e+09            2019-08-31 00:00:00   \n",
       "std     1.234372e+09  1.221578e+09                            NaN   \n",
       "\n",
       "            revenue  \n",
       "count   1016.000000  \n",
       "mean     130.770866  \n",
       "min        5.000000  \n",
       "25%       20.775000  \n",
       "50%       50.100000  \n",
       "75%      126.950000  \n",
       "max    19920.400000  \n",
       "std      648.079810  "
      ]
     },
     "metadata": {},
     "output_type": "display_data"
    },
    {
     "name": "stdout",
     "output_type": "stream",
     "text": [
      "\n",
      "Visits Data Summary:\n"
     ]
    },
    {
     "data": {
      "text/html": [
       "<div>\n",
       "<style scoped>\n",
       "    .dataframe tbody tr th:only-of-type {\n",
       "        vertical-align: middle;\n",
       "    }\n",
       "\n",
       "    .dataframe tbody tr th {\n",
       "        vertical-align: top;\n",
       "    }\n",
       "\n",
       "    .dataframe thead th {\n",
       "        text-align: right;\n",
       "    }\n",
       "</style>\n",
       "<table border=\"1\" class=\"dataframe\">\n",
       "  <thead>\n",
       "    <tr style=\"text-align: right;\">\n",
       "      <th></th>\n",
       "      <th>date</th>\n",
       "      <th>visits</th>\n",
       "    </tr>\n",
       "  </thead>\n",
       "  <tbody>\n",
       "    <tr>\n",
       "      <th>count</th>\n",
       "      <td>62</td>\n",
       "      <td>62.000000</td>\n",
       "    </tr>\n",
       "    <tr>\n",
       "      <th>mean</th>\n",
       "      <td>2019-08-16 00:00:00</td>\n",
       "      <td>607.290323</td>\n",
       "    </tr>\n",
       "    <tr>\n",
       "      <th>min</th>\n",
       "      <td>2019-08-01 00:00:00</td>\n",
       "      <td>361.000000</td>\n",
       "    </tr>\n",
       "    <tr>\n",
       "      <th>25%</th>\n",
       "      <td>2019-08-08 06:00:00</td>\n",
       "      <td>534.000000</td>\n",
       "    </tr>\n",
       "    <tr>\n",
       "      <th>50%</th>\n",
       "      <td>2019-08-16 00:00:00</td>\n",
       "      <td>624.500000</td>\n",
       "    </tr>\n",
       "    <tr>\n",
       "      <th>75%</th>\n",
       "      <td>2019-08-23 18:00:00</td>\n",
       "      <td>710.500000</td>\n",
       "    </tr>\n",
       "    <tr>\n",
       "      <th>max</th>\n",
       "      <td>2019-08-31 00:00:00</td>\n",
       "      <td>770.000000</td>\n",
       "    </tr>\n",
       "    <tr>\n",
       "      <th>std</th>\n",
       "      <td>NaN</td>\n",
       "      <td>114.400560</td>\n",
       "    </tr>\n",
       "  </tbody>\n",
       "</table>\n",
       "</div>"
      ],
      "text/plain": [
       "                      date      visits\n",
       "count                   62   62.000000\n",
       "mean   2019-08-16 00:00:00  607.290323\n",
       "min    2019-08-01 00:00:00  361.000000\n",
       "25%    2019-08-08 06:00:00  534.000000\n",
       "50%    2019-08-16 00:00:00  624.500000\n",
       "75%    2019-08-23 18:00:00  710.500000\n",
       "max    2019-08-31 00:00:00  770.000000\n",
       "std                    NaN  114.400560"
      ]
     },
     "metadata": {},
     "output_type": "display_data"
    }
   ],
   "source": [
    "# Initial exploratory analysis\n",
    "print('\\nOrders Data Summary:')\n",
    "display(cleaned_orders.describe())\n",
    "print('\\nVisits Data Summary:')\n",
    "display(visits.describe())"
   ]
  },
  {
   "cell_type": "code",
   "execution_count": 18,
   "metadata": {},
   "outputs": [
    {
     "data": {
      "image/png": "[encoded data removed]",
      "text/plain": [
       "<Figure size 1000x600 with 1 Axes>"
      ]
     },
     "metadata": {},
     "output_type": "display_data"
    }
   ],
   "source": [
    "# Chart settings (safe version)\n",
    "import matplotlib.pyplot as plt\n",
    "import seaborn as sns\n",
    "\n",
    "# Use seaborn's default whitegrid style (no need for plt.style.use)\n",
    "sns.set(style='whitegrid')\n",
    "\n",
    "# Cumulative revenue by group\n",
    "cumulative_revenue = cleaned_orders.groupby(['date', 'group']) \\\n",
    "    .agg({'revenue': 'sum'}).groupby(level=1).cumsum().reset_index()\n",
    "\n",
    "# Plot cumulative revenue by group\n",
    "plt.figure(figsize=(10, 6))\n",
    "sns.lineplot(data=cumulative_revenue, x='date', y='revenue', hue='group', marker='o')\n",
    "plt.title('Cumulative Revenue by Group')\n",
    "plt.xlabel('Date')\n",
    "plt.ylabel('Cumulative Revenue')\n",
    "plt.xticks(rotation=45)\n",
    "plt.tight_layout()\n",
    "plt.show()"
   ]
  },
  {
   "cell_type": "markdown",
   "metadata": {},
   "source": [
    "### Analysis of the Cumulative Revenue Chart by Group\n",
    "\n",
    "#### Observations:\n",
    "\n",
    "1. General Trend:\n",
    "\n",
    "    • Both groups (A and B) show a continuous increase in cumulative revenue throughout the test period.\n",
    "\n",
    "    • Group B clearly generates more cumulative revenue than Group A, especially after mid-August.\n",
    "\n",
    "2. Notable Difference:\n",
    "\n",
    "    • Starting August 17, Group B shows a significant increase in cumulative revenue, while Group A follows a more gradual growth trend.\n",
    "\n",
    "    • This sudden increase may be related to unusually large orders or a positive shift in Group B's behavior.\n",
    "\n",
    "3. Sustained Growth:\n",
    "\n",
    "    • Despite the significant divergence, both groups continue growing at a steady rate after the jump, but Group B maintains the lead.\n",
    "\n",
    "⸻\n",
    "\n",
    "### Data Analysis:\n",
    "\n",
    "**Orders:**\n",
    "\n",
    " • No duplicates are present in the orders dataset, which is good for analysis.\n",
    "\n",
    " • The average order value is approximately 131.49, but the maximum is extremely high (19,920.4), indicating potential outliers or exceptionally large orders.\n",
    "\n",
    " • The standard deviation (603) also reflects high variability in order amounts.\n",
    "\n",
    " • The 75th percentile is 130.4, meaning the top 25% of orders are significantly above the average.\n",
    "\n",
    "**Visits:**\n",
    "\n",
    " • No duplicates are present in the visits dataset.\n",
    "\n",
    " • The average number of daily visits is about 607, with a maximum of 770 and a minimum of 361.\n",
    "\n",
    " • The distribution of visits appears reasonably consistent, suggesting stable traffic during the test period.\n",
    "\n",
    "⸻\n",
    "\n",
    "### Conclusions:\n",
    "\n",
    "1. Group B Effect:\n",
    "\n",
    "    • The sharp increase in cumulative revenue for Group B aligns with earlier findings showing a positive difference in cumulative average order value.\n",
    "\n",
    "    • This suggests that one or more unusually large orders in Group B may have driven the observed revenue spike.\n",
    "\n",
    "2. Outlier Analysis:\n",
    "\n",
    "    • Given the extremely high maximum order value, it is crucial to analyze the 95th and 99th percentiles to identify potential outliers that could distort the results."
   ]
  },
  {
   "cell_type": "code",
   "execution_count": 19,
   "metadata": {},
   "outputs": [
    {
     "data": {
      "image/png": "[encoded data removed]",
      "text/plain": [
       "<Figure size 1000x600 with 1 Axes>"
      ]
     },
     "metadata": {},
     "output_type": "display_data"
    }
   ],
   "source": [
    "# Calculate cumulative average order size by group\n",
    "cumulative_avg_order_size = (\n",
    "    cleaned_orders.groupby(['date', 'group'])\n",
    "    .agg({'revenue': 'sum', 'transactionId': 'count'})\n",
    "    .groupby(level=1)\n",
    "    .cumsum()\n",
    "    .reset_index()\n",
    ")\n",
    "cumulative_avg_order_size['avg_order_size'] = cumulative_avg_order_size['revenue'] / cumulative_avg_order_size['transactionId']\n",
    "\n",
    "# Plot cumulative average order size by group\n",
    "plt.figure(figsize=(10, 6))\n",
    "sns.lineplot(data=cumulative_avg_order_size, x='date', y='avg_order_size', hue='group', marker='o')\n",
    "plt.title('Cumulative Average Order Size by Group')\n",
    "plt.xlabel('Date')\n",
    "plt.ylabel('Cumulative Average Order Size')\n",
    "plt.xticks(rotation=45)\n",
    "plt.tight_layout()\n",
    "plt.show()"
   ]
  },
  {
   "cell_type": "markdown",
   "metadata": {},
   "source": [
    "### 📊 Conclusions and Insights: Cumulative Average Order Size by Group\n",
    "\n",
    "1. Similar Initial Trend:\n",
    "    \n",
    "    • At the beginning of the test period (until August 8), both groups show very similar \n",
    "      cumulative average order sizes, with only slight fluctuations.\n",
    "\n",
    "2. Significant Increase in Group B:\n",
    "    \n",
    "    • Starting August 17, Group B experiences a sharp and significant rise in average order size, \n",
    "      suggesting that a few large orders have influenced the cumulative mean.\n",
    "\n",
    "3. Post-Spike Stability:\n",
    "    \n",
    "    • After the spike, Group B maintains a significantly higher average order size than Group A, \n",
    "      although a slight downward trend is seen in the final days.\n",
    "\n",
    "4. Group A Behavior:\n",
    "    \n",
    "    • Group A shows a slow and steady increase over time but never reaches the same level of \n",
    "      growth as Group B.\n",
    "\n",
    "5. Potential Influencing Factors:\n",
    "    \n",
    "    • The sudden jump in Group B could be due to the presence of unusually large orders (outliers) \n",
    "      that inflated the cumulative average.\n",
    "\n",
    "⸻\n",
    "\n",
    "### 🤔 Hypotheses and Considerations:\n",
    "\n",
    "• If the increase in Group B is driven by outlier orders, it is essential to perform further \n",
    "  analysis to identify those orders and determine whether they are representative or anomalies.\n",
    "\n",
    "• The fact that Group B maintains a higher average order size after the spike suggests that the \n",
    "  implemented change for this group may have had a positive impact on order value.\n",
    "\n",
    "• Statistical tests are necessary to assess whether this observed difference is statistically \n",
    "  significant before concluding that Group B is the winning group."
   ]
  },
  {
   "cell_type": "code",
   "execution_count": 20,
   "metadata": {},
   "outputs": [
    {
     "data": {
      "image/png": "[encoded data removed]",
      "text/plain": [
       "<Figure size 1000x600 with 1 Axes>"
      ]
     },
     "metadata": {},
     "output_type": "display_data"
    }
   ],
   "source": [
    "# Calculate cumulative average order size by group\n",
    "cumulative_avg_order_size = (\n",
    "    cleaned_orders.groupby(['date', 'group'])\n",
    "    .agg({'revenue': 'sum', 'transactionId': 'count'})\n",
    "    .groupby(level=1)\n",
    "    .cumsum()\n",
    "    .reset_index()\n",
    ")\n",
    "cumulative_avg_order_size['avg_order_size'] = cumulative_avg_order_size['revenue'] / cumulative_avg_order_size['transactionId']\n",
    "\n",
    "# Split groups A and B\n",
    "group_a = cumulative_avg_order_size[cumulative_avg_order_size['group'] == 'A']\n",
    "group_b = cumulative_avg_order_size[cumulative_avg_order_size['group'] == 'B']\n",
    "\n",
    "# Calculate relative difference in cumulative average order size (B vs A)\n",
    "relative_difference = pd.DataFrame({\n",
    "    'date': group_a['date'],\n",
    "    'relative_diff': (group_b['avg_order_size'].values - group_a['avg_order_size'].values) / group_a['avg_order_size'].values\n",
    "})\n",
    "\n",
    "# Plot relative difference in cumulative average order size\n",
    "plt.figure(figsize=(10, 6))\n",
    "sns.lineplot(data=relative_difference, x='date', y='relative_diff', marker='o', color='purple')\n",
    "plt.title('Relative Difference in Cumulative Average Order Size (Group B vs Group A)')\n",
    "plt.xlabel('Date')\n",
    "plt.ylabel('Relative Difference')\n",
    "plt.axhline(y=0, color='gray', linestyle='--')  # Reference line at 0\n",
    "plt.xticks(rotation=45)\n",
    "plt.tight_layout()\n",
    "plt.show()"
   ]
  },
  {
   "cell_type": "markdown",
   "metadata": {},
   "source": [
    "### 📊 Analysis of the Relative Difference in Cumulative Average Order Size (Group B vs Group A)\n",
    "\n",
    "#### 🔍 Observations:\n",
    "\n",
    "1. Unstable Start (August 1–8):\n",
    "\n",
    "    • At the beginning of the period (around August 1), the relative difference starts in the negative,\n",
    "      meaning that Group B had a lower average order size than Group A.\n",
    "\n",
    "    • However, a sharp increase follows shortly after, reaching a relative difference of around +30% \n",
    "      between August 5 and 8, with Group B outperforming Group A.\n",
    "\n",
    "2. Decline and Low Point (August 9–13):\n",
    "\n",
    "    • From August 9 onward, the relative difference decreases steadily and turns negative,\n",
    "      reaching a low point around August 13.\n",
    "\n",
    "    • This indicates that during this time, Group A had a higher cumulative average order size than Group B.\n",
    "\n",
    "3. Sharp Increase (August 17):\n",
    "\n",
    "    • After hitting the low point, the chart shows a steep upward jump, suggesting that Group B \n",
    "      quickly surpassed Group A in cumulative average order size.\n",
    "\n",
    "    • This increase aligns with the earlier observed spike in Group B's average order size chart, \n",
    "      possibly due to one or more unusually large orders.\n",
    "\n",
    "4. Stability with Slight Decline (After August 21):\n",
    "\n",
    "    • Following the spike, the chart stabilizes at positive values, although with a slight downward trend \n",
    "      toward the end of the period.\n",
    "\n",
    "    • This suggests that although Group B maintains a higher average order size than Group A, \n",
    "      the gap narrows slightly in the final days.\n",
    "\n",
    "⸻\n",
    "\n",
    "### ✅ Conclusions:\n",
    "\n",
    "1. Significant Impact from Group B:\n",
    "\n",
    "    • The consistently positive relative difference after August 17 shows that Group B maintained \n",
    "      a higher average order size following the sharp increase.\n",
    "\n",
    "    • It is important to further investigate the cause of this jump—likely driven by one or more \n",
    "      abnormally large orders.\n",
    "\n",
    "2. Possible Anomaly or Outlier:\n",
    "\n",
    "    • The sharp peak suggests the presence of an outlier in Group B's data. \n",
    "      A scatterplot and percentile analysis are recommended to detect these extreme values.\n",
    "\n",
    "3. Sustained Results:\n",
    "\n",
    "    • Despite the slight decline at the end of the period, Group B remains consistently above Group A, \n",
    "      which could indicate a positive effect from the variation implemented in that group."
   ]
  },
  {
   "cell_type": "code",
   "execution_count": 21,
   "metadata": {},
   "outputs": [
    {
     "name": "stderr",
     "output_type": "stream",
     "text": [
      "/var/folders/88/y8mvb5pd0hg61ljsjz2263y80000gn/T/ipykernel_99213/2601536212.py:11: FutureWarning: A value is trying to be set on a copy of a DataFrame or Series through chained assignment using an inplace method.\n",
      "The behavior will change in pandas 3.0. This inplace method will never work because the intermediate object on which we are setting values always behaves as a copy.\n",
      "\n",
      "For example, when doing 'df[col].method(value, inplace=True)', try using 'df.method({col: value}, inplace=True)' or df[col] = df[col].method(value) instead, to perform the operation inplace on the original object.\n",
      "\n",
      "\n",
      "  conversion['orders'].fillna(0, inplace=True)\n"
     ]
    },
    {
     "data": {
      "image/png": "[encoded data removed]",
      "text/plain": [
       "<Figure size 1000x600 with 1 Axes>"
      ]
     },
     "metadata": {},
     "output_type": "display_data"
    }
   ],
   "source": [
    "# Calculate daily orders by group\n",
    "daily_orders = cleaned_orders.groupby(['date', 'group']).agg({'transactionId': 'count'}).reset_index()\n",
    "\n",
    "# Rename the orders column\n",
    "daily_orders.rename(columns={'transactionId': 'orders'}, inplace=True)\n",
    "\n",
    "# Merge with the visits dataset\n",
    "conversion = pd.merge(visits, daily_orders, on=['date', 'group'], how='left')\n",
    "\n",
    "# Replace missing values in the orders column with 0\n",
    "conversion['orders'].fillna(0, inplace=True)\n",
    "\n",
    "# Calculate the conversion rate\n",
    "conversion['conversion_rate'] = conversion['orders'] / conversion['visits']\n",
    "\n",
    "# Plot daily conversion rate by group\n",
    "plt.figure(figsize=(10, 6))\n",
    "sns.lineplot(data=conversion, x='date', y='conversion_rate', hue='group', marker='o')\n",
    "plt.title('Daily Conversion Rate by Group')\n",
    "plt.xlabel('Date')\n",
    "plt.ylabel('Conversion Rate')\n",
    "plt.xticks(rotation=45)\n",
    "plt.axhline(y=0, color='gray', linestyle='--', linewidth=1)  # Reference line at 0\n",
    "plt.tight_layout()\n",
    "plt.show()"
   ]
  },
  {
   "cell_type": "markdown",
   "metadata": {},
   "source": [
    "### 📊 Analysis of the Daily Conversion Rate Chart by Group\n",
    "\n",
    "#### 🔍 Observations:\n",
    "\n",
    "1. Fluctuation in Conversion Rate:\n",
    "\n",
    "    • Both lines (Group A and Group B) show significant fluctuations in conversion rates over time.\n",
    "\n",
    "    • Neither group maintains a stable conversion rate, suggesting that daily factors may be influencing user behavior.\n",
    "\n",
    "2. Notable Spikes:\n",
    "\n",
    "    • Group B shows a significant spike on August 8, reaching a conversion rate close to 6%, \n",
    "      which is much higher than any other day.\n",
    "\n",
    "    • Group A shows a peak on August 25, although not as pronounced as Group B's.\n",
    "\n",
    "3. Comparative Behavior:\n",
    "\n",
    "    • At several points, the conversion rates of both groups intersect, indicating no sustained \n",
    "      advantage for either group throughout the test period.\n",
    "\n",
    "    • However, Group B appears to have a slight advantage in terms of more frequent high spikes.\n",
    "\n",
    "4. End-of-Period Trend:\n",
    "\n",
    "    • Toward the end of the period (late August), Group A’s conversion rate shows a decline, \n",
    "      while Group B remains more stable.\n",
    "\n",
    "⸻\n",
    "\n",
    "### ✅ Conclusions:\n",
    "\n",
    "1. No Clear Winner:\n",
    "\n",
    "    • Due to the constant fluctuations and intersection of conversion rates between the two groups, \n",
    "      it is not visually evident which group performed better overall.\n",
    "\n",
    "2. Possible External Factors:\n",
    "\n",
    "    • The observed spikes may be related to promotions, website changes, or external events. \n",
    "      It is important to consider context for those specific dates.\n",
    "\n",
    "3. Need for Statistical Testing:\n",
    "\n",
    "    • To determine whether the difference in conversion rates is statistically significant, \n",
    "      a hypothesis test (such as a Z-test for proportions) should be conducted."
   ]
  },
  {
   "cell_type": "code",
   "execution_count": 22,
   "metadata": {},
   "outputs": [
    {
     "data": {
      "image/png": "[encoded data removed]",
      "text/plain": [
       "<Figure size 800x500 with 1 Axes>"
      ]
     },
     "metadata": {},
     "output_type": "display_data"
    }
   ],
   "source": [
    "# Calculate the number of orders per user\n",
    "orders_per_user = cleaned_orders.groupby('visitorId').agg({'transactionId': 'count'}).reset_index()\n",
    "orders_per_user.columns = ['visitorId', 'orders']\n",
    "\n",
    "# Scatter plot of the number of orders per user\n",
    "plt.figure(figsize=(8, 5))\n",
    "sns.scatterplot(data=orders_per_user, x='visitorId', y='orders', alpha=0.6)\n",
    "plt.title('Number of Orders per User')\n",
    "plt.xlabel('User ID')\n",
    "plt.ylabel('Number of Orders')\n",
    "plt.tight_layout()\n",
    "plt.show()"
   ]
  },
  {
   "cell_type": "markdown",
   "metadata": {},
   "source": [
    "### 📊 Analysis of the Scatter Plot: Number of Orders per User\n",
    "\n",
    "#### 🔍 Observations:\n",
    "\n",
    "1. Concentrated Distribution:\n",
    "\n",
    "    • The vast majority of users placed only one or two orders during the test period. \n",
    "      This is typical in many e-commerce environments, where occasional buyers far outnumber repeat customers.\n",
    "\n",
    "2. Notable Outliers:\n",
    "\n",
    "    • There are a few users who placed a significantly higher number of orders, \n",
    "      with the most extreme case reaching up to 11 orders.\n",
    "\n",
    "    • These users represent a very small portion of the customer base, but they may have \n",
    "      a considerable impact on total revenue.\n",
    "\n",
    "3. Repeat Users:\n",
    "\n",
    "    • Although few in number, users with more than 4 orders clearly stand out in the plot.\n",
    "\n",
    "    • It is important to assess whether these are loyal customers or if they reflect unusual behavior.\n",
    "\n",
    "⸻\n",
    "\n",
    "### ✅ Conclusions:\n",
    "\n",
    "1. Skewed Distribution:\n",
    "\n",
    "    • Most users place few orders, indicating a left-skewed distribution with a long right tail.\n",
    "\n",
    "    • This suggests that frequent customers are a minority but could contribute significantly to overall revenue.\n",
    "\n",
    "2. Outlier Impact:\n",
    "\n",
    "    • Users with many orders may be influencing the calculation of average order size \n",
    "      and cumulative revenue—especially in Group B, where a sharp spike was previously observed.\n",
    "\n",
    "    • It is crucial to investigate these cases to determine whether they are legitimate customers \n",
    "      or represent anomalies or potentially fraudulent behavior."
   ]
  },
  {
   "cell_type": "code",
   "execution_count": 23,
   "metadata": {},
   "outputs": [
    {
     "name": "stdout",
     "output_type": "stream",
     "text": [
      "95th percentile of number of orders per user: 1.0\n",
      "99th percentile of number of orders per user: 2.0\n",
      "Threshold to consider an order count as an anomaly: 2 orders\n"
     ]
    }
   ],
   "source": [
    "# Calculate the number of orders per user\n",
    "orders_per_user = cleaned_orders.groupby('visitorId').agg({'transactionId': 'count'}).reset_index()\n",
    "orders_per_user.columns = ['visitorId', 'orders']\n",
    "\n",
    "# Calculate the 95th and 99th percentiles\n",
    "percentile_95 = orders_per_user['orders'].quantile(0.95)\n",
    "percentile_99 = orders_per_user['orders'].quantile(0.99)\n",
    "\n",
    "print(f'95th percentile of number of orders per user: {percentile_95}')\n",
    "print(f'99th percentile of number of orders per user: {percentile_99}')\n",
    "\n",
    "# Define the anomaly threshold\n",
    "anomaly_threshold = int(percentile_99)\n",
    "print(f'Threshold to consider an order count as an anomaly: {anomaly_threshold} orders')"
   ]
  },
  {
   "cell_type": "markdown",
   "metadata": {},
   "source": [
    "### 📊 Analysis of Order Count Percentiles per User\n",
    "\n",
    "#### 🧮 Results:\n",
    "\n",
    "• 95th percentile: 2 orders per user  \n",
    "• 99th percentile: 4 orders per user  \n",
    "• Anomaly threshold: 4 orders\n",
    "\n",
    "⸻\n",
    "\n",
    "### 🔍 Interpretation:\n",
    "\n",
    "1. Typical Users (95%):\n",
    "\n",
    "    • 95% of users placed 2 orders or fewer.  \n",
    "    • This indicates that placing more than 2 orders is already uncommon behavior among users.\n",
    "\n",
    "2. High-Order Users (99%):\n",
    "\n",
    "    • 99% of users placed 4 orders or fewer.  \n",
    "    • Users placing 5 or more orders are considered outliers or anomalies.\n",
    "\n",
    "3. Frequent or Anomalous Customers:\n",
    "\n",
    "    • Users exceeding the 4-order threshold are exceptional cases and may represent:\n",
    "\n",
    "     • Highly loyal and repeat customers  \n",
    "     • Possible duplicate accounts or suspicious behavior (e.g., resellers, misuse)  \n",
    "     • Specific events such as promotions or campaigns encouraging repeated purchases\n",
    "\n",
    "⸻\n",
    "\n",
    "### ✅ Conclusion:\n",
    "\n",
    "• It is essential to review users who placed 5 or more orders to understand the reason behind their behavior.  \n",
    "• These users may be skewing A/B test results, especially if they are concentrated in one group (e.g., Group B).  \n",
    "• If suspicious or unrepresentative patterns are found, filtering out these users may be necessary for a more accurate and fair analysis."
   ]
  },
  {
   "cell_type": "code",
   "execution_count": 24,
   "metadata": {},
   "outputs": [
    {
     "data": {
      "image/png": "[encoded data removed]",
      "text/plain": [
       "<Figure size 800x500 with 1 Axes>"
      ]
     },
     "metadata": {},
     "output_type": "display_data"
    }
   ],
   "source": [
    "# Scatter plot of order prices\n",
    "plt.figure(figsize=(8, 5))\n",
    "sns.scatterplot(data=cleaned_orders, x='transactionId', y='revenue', alpha=0.6)\n",
    "plt.title('Scatter Plot of Order Prices')\n",
    "plt.xlabel('Transaction ID')\n",
    "plt.ylabel('Order Price')\n",
    "plt.tight_layout()\n",
    "plt.show()"
   ]
  },
  {
   "cell_type": "markdown",
   "metadata": {},
   "source": [
    "### 📊 Analysis of the Scatter Plot of Order Prices\n",
    "\n",
    "#### 🔍 Observations:\n",
    "\n",
    "1. Concentration in Lower Price Range:\n",
    "\n",
    "    • Most points are concentrated near the X-axis, indicating that the vast majority of orders \n",
    "      have relatively low prices.\n",
    "\n",
    "    • This suggests that the typical order price falls within a low to moderate range.\n",
    "\n",
    "2. Significant Outlier:\n",
    "\n",
    "    • There is one order priced close to 20,000, which clearly stands out from the rest.\n",
    "\n",
    "    • A few other orders are slightly above 2,000, also deviating from the typical pattern.\n",
    "\n",
    "3. Overall Distribution:\n",
    "\n",
    "    • The price distribution follows a pattern where only a few orders have high values, \n",
    "      while most fall in the lower range.\n",
    "\n",
    "    • This is consistent with a left-skewed distribution, typical in e-commerce, \n",
    "      where most products are affordably priced.\n",
    "\n",
    "⸻\n",
    "\n",
    "### ✅ Conclusions:\n",
    "\n",
    "1. Presence of Outliers:\n",
    "\n",
    "    • The point near 20,000 is clearly an extreme outlier.\n",
    "\n",
    "    • Additionally, prices between 2,000 and 5,000 may also be considered atypical \n",
    "      when compared to the majority of orders.\n",
    "\n",
    "2. Outlier Impact:\n",
    "\n",
    "    • These extremely high-value orders may influence the average cumulative order size, \n",
    "      especially in Group B.\n",
    "\n",
    "    • It's important to analyze them further to determine if they are legitimate or \n",
    "      the result of errors or unusual behavior."
   ]
  },
  {
   "cell_type": "code",
   "execution_count": 25,
   "metadata": {},
   "outputs": [
    {
     "name": "stdout",
     "output_type": "stream",
     "text": [
      "95th percentile of order prices: 414.275\n",
      "99th percentile of order prices: 830.3\n",
      "Threshold to consider a price as an anomaly: 830 monetary units\n"
     ]
    }
   ],
   "source": [
    "# Calculate the 95th and 99th percentiles of order prices\n",
    "percentile_95 = cleaned_orders['revenue'].quantile(0.95)\n",
    "percentile_99 = cleaned_orders['revenue'].quantile(0.99)\n",
    "\n",
    "print(f'95th percentile of order prices: {percentile_95}')\n",
    "print(f'99th percentile of order prices: {percentile_99}')\n",
    "\n",
    "# Define the anomaly threshold\n",
    "anomaly_threshold = int(percentile_99)\n",
    "print(f'Threshold to consider a price as an anomaly: {anomaly_threshold} monetary units')"
   ]
  },
  {
   "cell_type": "markdown",
   "metadata": {},
   "source": [
    "### 📊 Analysis of Order Price Percentiles\n",
    "\n",
    "#### 🧮 Results:\n",
    "\n",
    "• 95th percentile: 435.54 monetary units  \n",
    "• 99th percentile: 900.90 monetary units  \n",
    "• Anomaly threshold: 900 monetary units\n",
    "\n",
    "⸻\n",
    "\n",
    "### 🔍 Interpretation:\n",
    "\n",
    "1. Typical Prices (95% of Orders):\n",
    "\n",
    "    • 95% of orders are priced below 435.54 units.  \n",
    "    • This indicates that any order above this value falls into the top 5% of the price distribution.\n",
    "\n",
    "2. High-Value Orders (99% of Orders):\n",
    "\n",
    "    • 99% of orders are priced below 900 units.  \n",
    "    • Any order priced above 900 units is extremely rare and can be considered an outlier.\n",
    "\n",
    "3. Outlier Impact:\n",
    "\n",
    "    • The previously shown scatter plot revealed several orders priced well above 900 units, \n",
    "      especially one as high as 20,000.\n",
    "\n",
    "    • This confirms that these are anomalies and may distort A/B test results—particularly in Group B.\n",
    "\n",
    "⸻\n",
    "\n",
    "### ✅ Conclusions:\n",
    "\n",
    "1. Strategy for Handling Outliers:\n",
    "\n",
    "    • It is recommended to perform A/B test analysis both **with and without** these outlier orders \n",
    "      to check if results change significantly.\n",
    "\n",
    "    • Doing so ensures that conclusions are not biased by a small number of extremely high-value orders.\n",
    "\n",
    "2. Possible Data Review:\n",
    "\n",
    "    • Check if these orders correspond to special events (e.g., bulk purchases, promotions, or errors) \n",
    "      to determine whether they should be included in the analysis."
   ]
  },
  {
   "cell_type": "code",
   "execution_count": 29,
   "metadata": {},
   "outputs": [
    {
     "name": "stdout",
     "output_type": "stream",
     "text": [
      "Conversion Summary by Group:\n"
     ]
    },
    {
     "data": {
      "text/html": [
       "<div>\n",
       "<style scoped>\n",
       "    .dataframe tbody tr th:only-of-type {\n",
       "        vertical-align: middle;\n",
       "    }\n",
       "\n",
       "    .dataframe tbody tr th {\n",
       "        vertical-align: top;\n",
       "    }\n",
       "\n",
       "    .dataframe thead th {\n",
       "        text-align: right;\n",
       "    }\n",
       "</style>\n",
       "<table border=\"1\" class=\"dataframe\">\n",
       "  <thead>\n",
       "    <tr style=\"text-align: right;\">\n",
       "      <th></th>\n",
       "      <th>orders</th>\n",
       "      <th>visits</th>\n",
       "      <th>conversion_rate</th>\n",
       "    </tr>\n",
       "    <tr>\n",
       "      <th>group</th>\n",
       "      <th></th>\n",
       "      <th></th>\n",
       "      <th></th>\n",
       "    </tr>\n",
       "  </thead>\n",
       "  <tbody>\n",
       "    <tr>\n",
       "      <th>A</th>\n",
       "      <td>468</td>\n",
       "      <td>18736</td>\n",
       "      <td>0.024979</td>\n",
       "    </tr>\n",
       "    <tr>\n",
       "      <th>B</th>\n",
       "      <td>548</td>\n",
       "      <td>18916</td>\n",
       "      <td>0.028970</td>\n",
       "    </tr>\n",
       "  </tbody>\n",
       "</table>\n",
       "</div>"
      ],
      "text/plain": [
       "       orders  visits  conversion_rate\n",
       "group                                 \n",
       "A         468   18736         0.024979\n",
       "B         548   18916         0.028970"
      ]
     },
     "metadata": {},
     "output_type": "display_data"
    },
    {
     "name": "stdout",
     "output_type": "stream",
     "text": [
      "\n",
      "Z-statistic: -2.3899\n",
      "P-value: 0.0169\n",
      "\n",
      "Result: Reject the null hypothesis (there is a significant difference in conversion rates between the groups).\n"
     ]
    }
   ],
   "source": [
    "from statsmodels.stats.proportion import proportions_ztest\n",
    "\n",
    "# Calculate the number of orders per group\n",
    "orders_per_group = cleaned_orders.groupby('group').agg({'transactionId': 'count'}).rename(columns={'transactionId': 'orders'})\n",
    "\n",
    "# Calculate the number of visits per group\n",
    "visits_per_group = visits.groupby('group').agg({'visits': 'sum'})\n",
    "\n",
    "# Combine metrics into a summary table\n",
    "summary = orders_per_group.join(visits_per_group)\n",
    "\n",
    "# Calculate conversion rate per group\n",
    "summary['conversion_rate'] = summary['orders'] / summary['visits']\n",
    "\n",
    "print(\"Conversion Summary by Group:\")\n",
    "display(summary)\n",
    "\n",
    "# Z-test for proportions using statsmodels\n",
    "successes = summary['orders'].values\n",
    "trials = summary['visits'].values\n",
    "\n",
    "z_stat, p_value = proportions_ztest(count=successes, nobs=trials)\n",
    "\n",
    "print(f\"\\nZ-statistic: {z_stat:.4f}\")\n",
    "print(f\"P-value: {p_value:.4f}\")\n",
    "\n",
    "# Interpretation of the result\n",
    "alpha = 0.05\n",
    "if p_value < alpha:\n",
    "    print(\"\\nResult: Reject the null hypothesis (there is a significant difference in conversion rates between the groups).\")\n",
    "else:\n",
    "    print(\"\\nResult: Fail to reject the null hypothesis (no significant difference in conversion rates between the groups).\")"
   ]
  },
  {
   "cell_type": "markdown",
   "metadata": {},
   "source": [
    "### 📊 Analysis of the Z-Test for Proportions Result\n",
    "\n",
    "#### 📋 Conversion Summary by Group:\n",
    "\n",
    "• **Group A:**\n",
    "  - Orders: 557  \n",
    "  - Visits: 18,736  \n",
    "  - Conversion rate: 0.0297 (2.97%)\n",
    "\n",
    "• **Group B:**\n",
    "  - Orders: 640  \n",
    "  - Visits: 18,916  \n",
    "  - Conversion rate: 0.0338 (3.38%)\n",
    "\n",
    "⸻\n",
    "\n",
    "### 🧪 Z-Test Result:\n",
    "\n",
    "• Z-statistic: -2.2700  \n",
    "• P-value: 0.0232  \n",
    "• Significance level (α): 0.05\n",
    "\n",
    "⸻\n",
    "\n",
    "### ✅ Interpretation:\n",
    "\n",
    "1. **Decision:**\n",
    "\n",
    "   • Since the p-value (0.0232) is less than the significance level (0.05), we reject the null hypothesis.  \n",
    "   • This indicates a statistically significant difference in conversion rates between Groups A and B.\n",
    "\n",
    "2. **Direction of the Difference:**\n",
    "\n",
    "   • The negative Z-statistic suggests that Group B has a significantly higher conversion rate than Group A.  \n",
    "   • This is consistent with the calculated conversion rates: Group B (3.38%) outperforms Group A (2.97%).\n",
    "\n",
    "3. **Conclusion:**\n",
    "\n",
    "   • Group B shows better performance in terms of conversion.  \n",
    "   • The difference is statistically significant, suggesting that the changes implemented in Group B had a positive impact."
   ]
  },
  {
   "cell_type": "code",
   "execution_count": 32,
   "metadata": {},
   "outputs": [
    {
     "name": "stdout",
     "output_type": "stream",
     "text": [
      "Average order size by group:\n",
      "group\n",
      "A    113.700855\n",
      "B    145.348905\n",
      "Name: revenue, dtype: float64\n",
      "\n",
      "t-statistic: -0.8345\n",
      "p-value: 0.4043\n",
      "\n",
      "Result: Fail to reject the null hypothesis (no significant difference in average order size between the groups).\n"
     ]
    }
   ],
   "source": [
    "# Calculate the average order size by group\n",
    "avg_order_size = cleaned_orders.groupby('group')['revenue'].mean()\n",
    "print(\"Average order size by group:\")\n",
    "print(avg_order_size)\n",
    "\n",
    "# Calculate standard deviation and sample size per group\n",
    "group_a = cleaned_orders[cleaned_orders['group'] == 'A']['revenue']\n",
    "group_b = cleaned_orders[cleaned_orders['group'] == 'B']['revenue']\n",
    "\n",
    "# Hypothesis test for difference in means (t-test)\n",
    "t_stat, p_value = stats.ttest_ind(group_a, group_b, equal_var=False)\n",
    "\n",
    "print(f\"\\nt-statistic: {t_stat:.4f}\")\n",
    "print(f\"p-value: {p_value:.4f}\")\n",
    "\n",
    "# Interpretation of the result\n",
    "alpha = 0.05\n",
    "if p_value < alpha:\n",
    "    print(\"\\nResult: Reject the null hypothesis (there is a significant difference in average order size between the groups).\")\n",
    "else:\n",
    "    print(\"\\nResult: Fail to reject the null hypothesis (no significant difference in average order size between the groups).\")"
   ]
  },
  {
   "cell_type": "markdown",
   "metadata": {},
   "source": [
    "### 📊 Analysis of the T-Test Result for Average Order Size\n",
    "\n",
    "#### 🧮 Results:\n",
    "\n",
    "• **Average Order Size by Group:**\n",
    "  - Group A: 115.90 monetary units  \n",
    "  - Group B: 145.06 monetary units\n",
    "\n",
    "• **T-Test Result:**\n",
    "  - t-statistic: -0.8886  \n",
    "  - p-value: 0.3745\n",
    "\n",
    "• **Decision:**\n",
    "  - Since the p-value (0.3745) is greater than the significance level (0.05), \n",
    "    we **fail to reject the null hypothesis**.\n",
    "\n",
    "  - This means there is not enough evidence to conclude a significant difference \n",
    "    in average order size between Groups A and B.\n",
    "\n",
    "⸻\n",
    "\n",
    "### 🔍 Interpretation:\n",
    "\n",
    "1. **No Statistically Significant Difference:**\n",
    "\n",
    "   • Although Group B shows a higher average order size than Group A (145.06 vs. 115.90), \n",
    "     this difference is **not statistically significant**.\n",
    "\n",
    "   • This suggests that variations in order size could be due to random fluctuations \n",
    "     rather than a real effect from the implemented change.\n",
    "\n",
    "2. **Potential Outlier Influence:**\n",
    "\n",
    "   • Recall that we previously identified extremely high-priced orders in Group B.\n",
    "\n",
    "   • These outliers may be inflating the mean, which could explain the apparent \n",
    "     difference that lacks statistical significance."
   ]
  },
  {
   "cell_type": "code",
   "execution_count": 33,
   "metadata": {},
   "outputs": [
    {
     "name": "stdout",
     "output_type": "stream",
     "text": [
      "Conversion Summary by Group (Filtered):\n"
     ]
    },
    {
     "data": {
      "text/html": [
       "<div>\n",
       "<style scoped>\n",
       "    .dataframe tbody tr th:only-of-type {\n",
       "        vertical-align: middle;\n",
       "    }\n",
       "\n",
       "    .dataframe tbody tr th {\n",
       "        vertical-align: top;\n",
       "    }\n",
       "\n",
       "    .dataframe thead th {\n",
       "        text-align: right;\n",
       "    }\n",
       "</style>\n",
       "<table border=\"1\" class=\"dataframe\">\n",
       "  <thead>\n",
       "    <tr style=\"text-align: right;\">\n",
       "      <th></th>\n",
       "      <th>orders</th>\n",
       "      <th>visits</th>\n",
       "      <th>conversion_rate</th>\n",
       "    </tr>\n",
       "    <tr>\n",
       "      <th>group</th>\n",
       "      <th></th>\n",
       "      <th></th>\n",
       "      <th></th>\n",
       "    </tr>\n",
       "  </thead>\n",
       "  <tbody>\n",
       "    <tr>\n",
       "      <th>A</th>\n",
       "      <td>463</td>\n",
       "      <td>18736</td>\n",
       "      <td>0.024712</td>\n",
       "    </tr>\n",
       "    <tr>\n",
       "      <th>B</th>\n",
       "      <td>544</td>\n",
       "      <td>18916</td>\n",
       "      <td>0.028759</td>\n",
       "    </tr>\n",
       "  </tbody>\n",
       "</table>\n",
       "</div>"
      ],
      "text/plain": [
       "       orders  visits  conversion_rate\n",
       "group                                 \n",
       "A         463   18736         0.024712\n",
       "B         544   18916         0.028759"
      ]
     },
     "metadata": {},
     "output_type": "display_data"
    },
    {
     "name": "stdout",
     "output_type": "stream",
     "text": [
      "\n",
      "Z-statistic: -2.4336\n",
      "P-value: 0.0149\n",
      "\n",
      "Result: Reject the null hypothesis (there is a significant difference in conversion rates between the groups using filtered data).\n"
     ]
    }
   ],
   "source": [
    "# Filter orders with revenue less than or equal to the 99th percentile (900 units)\n",
    "filtered_orders = cleaned_orders[cleaned_orders['revenue'] <= 900]\n",
    "\n",
    "# Calculate the number of orders per group after filtering\n",
    "orders_per_group = filtered_orders.groupby('group').agg({'transactionId': 'count'}).rename(columns={'transactionId': 'orders'})\n",
    "\n",
    "# Calculate the number of visits per group\n",
    "visits_per_group = visits.groupby('group').agg({'visits': 'sum'})\n",
    "\n",
    "# Combine metrics into a summary table\n",
    "summary = orders_per_group.join(visits_per_group)\n",
    "\n",
    "# Calculate conversion rate per group after filtering\n",
    "summary['conversion_rate'] = summary['orders'] / summary['visits']\n",
    "\n",
    "print(\"Conversion Summary by Group (Filtered):\")\n",
    "display(summary)\n",
    "\n",
    "# Z-test for proportions with filtered data\n",
    "successes = summary['orders'].values\n",
    "trials = summary['visits'].values\n",
    "\n",
    "z_stat, p_value = proportions_ztest(count=successes, nobs=trials)\n",
    "\n",
    "print(f\"\\nZ-statistic: {z_stat:.4f}\")\n",
    "print(f\"P-value: {p_value:.4f}\")\n",
    "\n",
    "# Interpretation of the result\n",
    "alpha = 0.05\n",
    "if p_value < alpha:\n",
    "    print(\"\\nResult: Reject the null hypothesis (there is a significant difference in conversion rates between the groups using filtered data).\")\n",
    "else:\n",
    "    print(\"\\nResult: Fail to reject the null hypothesis (no significant difference in conversion rates between the groups using filtered data).\")"
   ]
  },
  {
   "cell_type": "markdown",
   "metadata": {},
   "source": [
    "### 📊 Analysis of Conversion Rate Z-Test with Filtered Data\n",
    "\n",
    "#### 🧮 Filtered Results:\n",
    "\n",
    "• **Group A:**\n",
    "  - Orders: 549  \n",
    "  - Visits: 18,736  \n",
    "  - Conversion rate: 0.0293 (2.93%)\n",
    "\n",
    "• **Group B:**\n",
    "  - Orders: 634  \n",
    "  - Visits: 18,916  \n",
    "  - Conversion rate: 0.0335 (3.35%)\n",
    "\n",
    "⸻\n",
    "\n",
    "### 🧪 Statistical Test:\n",
    "\n",
    "• Z-statistic: -2.3440  \n",
    "• P-value: 0.0191  \n",
    "• Significance level (α): 0.05\n",
    "\n",
    "⸻\n",
    "\n",
    "### ✅ Interpretation:\n",
    "\n",
    "1. **Decision:**\n",
    "\n",
    "   • Since the p-value (0.0191) is lower than the significance level (0.05), \n",
    "     we reject the null hypothesis.\n",
    "\n",
    "   • This indicates a statistically significant difference in conversion rates \n",
    "     between Groups A and B, even after filtering outliers.\n",
    "\n",
    "2. **Direction of the Difference:**\n",
    "\n",
    "   • The negative Z-statistic shows that Group B still has a significantly higher \n",
    "     conversion rate than Group A.\n",
    "\n",
    "   • This is consistent with the result from the raw data, now with greater confidence \n",
    "     in the validity of the analysis.\n",
    "\n",
    "⸻\n",
    "\n",
    "### 📌 Conclusions:\n",
    "\n",
    "1. **Consistency of Results:**\n",
    "\n",
    "   • The similarity of outcomes in both raw and filtered analyses suggests that \n",
    "     Group B's advantage in conversion rate is real and not driven by outliers.\n",
    "\n",
    "2. **Validity of Group B's Performance:**\n",
    "\n",
    "   • We can now more confidently conclude that Group B performs better than Group A \n",
    "     in terms of conversion rate."
   ]
  },
  {
   "cell_type": "code",
   "execution_count": 36,
   "metadata": {},
   "outputs": [
    {
     "name": "stdout",
     "output_type": "stream",
     "text": [
      "Average order size by group (Filtered):\n",
      "group\n",
      "A    103.163067\n",
      "B     99.943566\n",
      "Name: revenue, dtype: float64\n",
      "\n",
      "t-statistic: 0.3782\n",
      "p-value: 0.7054\n",
      "\n",
      "Result: Fail to reject the null hypothesis (no significant difference in average order size between the groups using filtered data).\n"
     ]
    }
   ],
   "source": [
    "# Filter orders with revenue less than or equal to the 99th percentile (900 units)\n",
    "filtered_orders = cleaned_orders[cleaned_orders['revenue'] <= 900]\n",
    "\n",
    "# Calculate average order size by group after filtering\n",
    "avg_order_size = filtered_orders.groupby('group')['revenue'].mean()\n",
    "print(\"Average order size by group (Filtered):\")\n",
    "print(avg_order_size)\n",
    "\n",
    "# Calculate standard deviation and sample size per group\n",
    "group_a = filtered_orders[filtered_orders['group'] == 'A']['revenue']\n",
    "group_b = filtered_orders[filtered_orders['group'] == 'B']['revenue']\n",
    "\n",
    "# Hypothesis test for difference in means (t-test) with filtered data\n",
    "t_stat, p_value = stats.ttest_ind(group_a, group_b, equal_var=False)\n",
    "\n",
    "print(f\"\\nt-statistic: {t_stat:.4f}\")\n",
    "print(f\"p-value: {p_value:.4f}\")\n",
    "\n",
    "# Interpretation of the result\n",
    "alpha = 0.05\n",
    "if p_value < alpha:\n",
    "    print(\"\\nResult: Reject the null hypothesis (there is a significant difference in average order size between the groups using filtered data).\")\n",
    "else:\n",
    "    print(\"\\nResult: Fail to reject the null hypothesis (no significant difference in average order size between the groups using filtered data).\")"
   ]
  },
  {
   "cell_type": "markdown",
   "metadata": {},
   "source": [
    "### 📊 Analysis of Average Order Size T-Test with Filtered Data\n",
    "\n",
    "#### 🧮 Filtered Results:\n",
    "\n",
    "• **Average Order Size by Group:**\n",
    "  - Group A: 103.16 monetary units  \n",
    "  - Group B: 99.94 monetary units\n",
    "\n",
    "• **Statistical Test:**\n",
    "  - t-statistic: 0.3782  \n",
    "  - p-value: 0.7054  \n",
    "  - Significance level (α): 0.05\n",
    "\n",
    "⸻\n",
    "\n",
    "### ✅ Interpretation:\n",
    "\n",
    "1. **Decision:**\n",
    "\n",
    "   • Since the p-value (0.7054) is greater than the significance level (0.05), \n",
    "     we fail to reject the null hypothesis.\n",
    "\n",
    "   • This means there is insufficient evidence to claim a significant difference \n",
    "     in average order size between Groups A and B.\n",
    "\n",
    "2. **Direction of the Difference:**\n",
    "\n",
    "   • Although Group A shows a slightly higher average order size than Group B, \n",
    "     this difference is not statistically significant.\n",
    "\n",
    "   • This suggests that any observed variation in order size between the groups \n",
    "     is likely due to random chance.\n",
    "\n",
    "⸻\n",
    "\n",
    "### 🔄 Comparison with Previous Analysis:\n",
    "\n",
    "1. **Result Consistency:**\n",
    "\n",
    "   • Both the raw data and filtered data analyses lead to the same conclusion: \n",
    "     there is no significant difference in average order size.\n",
    "\n",
    "   • This supports the notion that the changes implemented in Group B did not \n",
    "     significantly impact order value.\n",
    "\n",
    "2. **Group B Validity:**\n",
    "\n",
    "   • While Group B demonstrated better conversion in previous analyses, \n",
    "     the increase in the number of orders did not translate into a significant \n",
    "     increase in order size.\n",
    "\n",
    "⸻\n",
    "\n",
    "### 📌 Conclusion:\n",
    "\n",
    "• **Adopting Group B’s Strategy:**\n",
    "\n",
    "   • Since Group B achieved a significantly higher conversion rate without \n",
    "     negatively affecting average order size, it seems reasonable to adopt \n",
    "     this strategy.\n",
    "\n",
    "• **Business Impact:**\n",
    "\n",
    "   • The increased number of orders will drive total revenue, \n",
    "     even if the average order size does not differ significantly."
   ]
  },
  {
   "cell_type": "markdown",
   "metadata": {},
   "source": [
    "### 🧠 Decision Based on A/B Test Results\n",
    "\n",
    "#### 📊 Summary of Findings:\n",
    "\n",
    "1. **Conversion Rate:**\n",
    "\n",
    "   • Group B has a **significantly higher conversion rate** than Group A, \n",
    "     both in raw and filtered data analyses.\n",
    "\n",
    "   • The p-value (0.0191) from the filtered analysis is below the significance level (0.05), \n",
    "     indicating a statistically significant difference.\n",
    "\n",
    "   • This suggests that Group B generates a higher number of orders without \n",
    "     compromising average order size.\n",
    "\n",
    "2. **Average Order Size:**\n",
    "\n",
    "   • No statistically significant difference was observed in average order size \n",
    "     between Groups A and B, in both raw and filtered data.\n",
    "\n",
    "   • The p-value (0.7054) in the filtered analysis is well above the significance threshold, \n",
    "     indicating any observed difference is likely due to random variation.\n",
    "\n",
    "3. **Repeated Users Handling:**\n",
    "\n",
    "   • Users who appeared in both groups (A and B) were identified and removed, \n",
    "     ensuring the integrity of the data and the reliability of the results.\n",
    "\n",
    "⸻\n",
    "\n",
    "### ✅ Decision: Stop the test and consider **Group B as the winning variation**\n",
    "\n",
    "#### 📝 Justification:\n",
    "\n",
    "1. **Significantly Higher Conversion:**\n",
    "\n",
    "   • The significant increase in conversion rate justifies adopting Group B’s strategy, \n",
    "     as it results in more users completing purchases.\n",
    "\n",
    "2. **Consistent Order Value:**\n",
    "\n",
    "   • The lack of significant difference in order size indicates that Group B’s strategy \n",
    "     does not negatively affect the value of individual orders.\n",
    "\n",
    "3. **Robust Statistical Evidence:**\n",
    "\n",
    "   • The results are consistent across both raw and filtered datasets, \n",
    "     strengthening the validity of the conclusion.\n",
    "\n",
    "⸻\n",
    "\n",
    "### 📌 Recommendation:\n",
    "\n",
    "1. **Implement Group B’s Strategy:**\n",
    "\n",
    "   • Since Group B shows better conversion performance without reducing order value, \n",
    "     this strategy should be rolled out across the platform.\n",
    "\n",
    "2. **Continuous Monitoring:**\n",
    "\n",
    "   • After implementation, it is important to track performance regularly to ensure \n",
    "     the improvement in conversion is sustained over time.\n",
    "\n",
    "3. **Periodic Review:**\n",
    "\n",
    "   • Continue monitoring average order size to ensure that no negative side effects \n",
    "     emerge after the rollout."
   ]
  }
 ],
 "metadata": {
  "ExecuteTimeLog": [
   {
    "duration": 2531,
    "start_time": "2025-04-02T15:43:25.850Z"
   },
   {
    "duration": 3,
    "start_time": "2025-04-02T15:43:47.604Z"
   },
   {
    "duration": 21,
    "start_time": "2025-04-02T15:44:27.947Z"
   },
   {
    "duration": 11,
    "start_time": "2025-04-02T15:44:45.142Z"
   },
   {
    "duration": 8,
    "start_time": "2025-04-02T15:45:23.852Z"
   },
   {
    "duration": 7,
    "start_time": "2025-04-02T15:45:42.580Z"
   },
   {
    "duration": 7,
    "start_time": "2025-04-02T15:45:55.939Z"
   },
   {
    "duration": 216,
    "start_time": "2025-04-02T15:46:30.321Z"
   },
   {
    "duration": 12,
    "start_time": "2025-04-02T15:48:35.332Z"
   },
   {
    "duration": 7,
    "start_time": "2025-04-02T15:48:40.874Z"
   },
   {
    "duration": 318,
    "start_time": "2025-04-02T15:50:56.806Z"
   },
   {
    "duration": 9,
    "start_time": "2025-04-02T15:51:57.553Z"
   },
   {
    "duration": 8,
    "start_time": "2025-04-02T15:52:14.903Z"
   },
   {
    "duration": 7,
    "start_time": "2025-04-02T15:52:25.947Z"
   },
   {
    "duration": 31,
    "start_time": "2025-04-02T15:52:35.180Z"
   },
   {
    "duration": 32,
    "start_time": "2025-04-02T15:54:17.977Z"
   },
   {
    "duration": 6,
    "start_time": "2025-04-02T15:55:25.601Z"
   },
   {
    "duration": 7,
    "start_time": "2025-04-02T15:56:05.525Z"
   },
   {
    "duration": 8,
    "start_time": "2025-04-02T15:56:21.138Z"
   },
   {
    "duration": 5,
    "start_time": "2025-04-02T15:57:47.120Z"
   },
   {
    "duration": 5,
    "start_time": "2025-04-02T15:57:56.414Z"
   },
   {
    "duration": 16,
    "start_time": "2025-04-02T15:58:09.783Z"
   },
   {
    "duration": 171,
    "start_time": "2025-04-02T15:58:22.899Z"
   },
   {
    "duration": 170,
    "start_time": "2025-04-02T15:59:39.730Z"
   },
   {
    "duration": 163,
    "start_time": "2025-04-03T04:47:42.033Z"
   },
   {
    "duration": 2520,
    "start_time": "2025-04-03T04:48:17.290Z"
   },
   {
    "duration": 26,
    "start_time": "2025-04-03T04:48:19.813Z"
   },
   {
    "duration": 9,
    "start_time": "2025-04-03T04:48:19.841Z"
   },
   {
    "duration": 7,
    "start_time": "2025-04-03T04:48:19.852Z"
   },
   {
    "duration": 6,
    "start_time": "2025-04-03T04:48:19.861Z"
   },
   {
    "duration": 7,
    "start_time": "2025-04-03T04:48:19.869Z"
   },
   {
    "duration": 6,
    "start_time": "2025-04-03T04:48:19.877Z"
   },
   {
    "duration": 29,
    "start_time": "2025-04-03T04:48:19.885Z"
   },
   {
    "duration": 5,
    "start_time": "2025-04-03T04:48:19.916Z"
   },
   {
    "duration": 5,
    "start_time": "2025-04-03T04:48:19.923Z"
   },
   {
    "duration": 14,
    "start_time": "2025-04-03T04:48:19.929Z"
   },
   {
    "duration": 208,
    "start_time": "2025-04-03T04:48:19.945Z"
   },
   {
    "duration": 271,
    "start_time": "2025-04-03T04:48:20.155Z"
   },
   {
    "duration": 250,
    "start_time": "2025-04-03T04:49:37.651Z"
   },
   {
    "duration": 388,
    "start_time": "2025-04-03T04:54:39.311Z"
   },
   {
    "duration": 11,
    "start_time": "2025-04-03T05:03:41.178Z"
   },
   {
    "duration": 335,
    "start_time": "2025-04-03T05:11:42.957Z"
   },
   {
    "duration": 135,
    "start_time": "2025-04-03T05:17:55.206Z"
   },
   {
    "duration": 7,
    "start_time": "2025-04-03T05:23:15.808Z"
   },
   {
    "duration": 152,
    "start_time": "2025-04-03T05:27:25.043Z"
   },
   {
    "duration": 6,
    "start_time": "2025-04-03T05:31:59.787Z"
   },
   {
    "duration": 256,
    "start_time": "2025-04-03T05:38:48.310Z"
   },
   {
    "duration": 18,
    "start_time": "2025-04-03T05:40:03.722Z"
   },
   {
    "duration": 8,
    "start_time": "2025-04-03T05:43:59.918Z"
   },
   {
    "duration": 15,
    "start_time": "2025-04-03T05:47:20.501Z"
   },
   {
    "duration": 9,
    "start_time": "2025-04-03T05:51:44.057Z"
   },
   {
    "duration": 2584,
    "start_time": "2025-04-04T04:04:55.952Z"
   },
   {
    "duration": 22,
    "start_time": "2025-04-04T04:05:46.129Z"
   },
   {
    "duration": 10,
    "start_time": "2025-04-04T04:05:50.317Z"
   },
   {
    "duration": 8,
    "start_time": "2025-04-04T04:05:53.462Z"
   },
   {
    "duration": 6,
    "start_time": "2025-04-04T04:05:57.198Z"
   },
   {
    "duration": 12,
    "start_time": "2025-04-04T04:06:02.040Z"
   },
   {
    "duration": 7,
    "start_time": "2025-04-04T04:06:05.042Z"
   },
   {
    "duration": 7,
    "start_time": "2025-04-04T04:06:08.000Z"
   },
   {
    "duration": 645,
    "start_time": "2025-04-04T04:12:22.870Z"
   },
   {
    "duration": 9,
    "start_time": "2025-04-04T04:13:17.241Z"
   },
   {
    "duration": 4,
    "start_time": "2025-04-04T04:13:59.484Z"
   },
   {
    "duration": 6,
    "start_time": "2025-04-04T04:14:02.754Z"
   },
   {
    "duration": 16,
    "start_time": "2025-04-04T04:14:05.230Z"
   },
   {
    "duration": 280,
    "start_time": "2025-04-04T04:14:10.730Z"
   },
   {
    "duration": 6,
    "start_time": "2025-04-04T04:15:20.449Z"
   },
   {
    "duration": 6,
    "start_time": "2025-04-04T04:16:08.435Z"
   },
   {
    "duration": 6,
    "start_time": "2025-04-04T04:17:05.582Z"
   },
   {
    "duration": 7,
    "start_time": "2025-04-04T04:17:44.901Z"
   },
   {
    "duration": 6,
    "start_time": "2025-04-04T04:18:11.537Z"
   },
   {
    "duration": 14,
    "start_time": "2025-04-04T04:18:28.561Z"
   },
   {
    "duration": 267,
    "start_time": "2025-04-04T04:19:10.613Z"
   },
   {
    "duration": 337,
    "start_time": "2025-04-04T04:21:05.030Z"
   },
   {
    "duration": 340,
    "start_time": "2025-04-04T04:21:45.916Z"
   },
   {
    "duration": 394,
    "start_time": "2025-04-04T04:23:28.578Z"
   },
   {
    "duration": 148,
    "start_time": "2025-04-04T04:23:48.434Z"
   },
   {
    "duration": 7,
    "start_time": "2025-04-04T04:24:08.157Z"
   },
   {
    "duration": 169,
    "start_time": "2025-04-04T04:24:34.146Z"
   },
   {
    "duration": 5,
    "start_time": "2025-04-04T04:24:50.706Z"
   },
   {
    "duration": 15,
    "start_time": "2025-04-04T04:25:39.778Z"
   },
   {
    "duration": 8,
    "start_time": "2025-04-04T04:26:18.181Z"
   },
   {
    "duration": 12,
    "start_time": "2025-04-04T04:26:56.969Z"
   },
   {
    "duration": 12,
    "start_time": "2025-04-04T04:27:27.093Z"
   }
  ],
  "kernelspec": {
   "display_name": "base",
   "language": "python",
   "name": "python3"
  },
  "language_info": {
   "codemirror_mode": {
    "name": "ipython",
    "version": 3
   },
   "file_extension": ".py",
   "mimetype": "text/x-python",
   "name": "python",
   "nbconvert_exporter": "python",
   "pygments_lexer": "ipython3",
   "version": "3.12.2"
  },
  "toc": {
   "base_numbering": 1,
   "nav_menu": {},
   "number_sections": true,
   "sideBar": true,
   "skip_h1_title": true,
   "title_cell": "Table of Contents",
   "title_sidebar": "Contents",
   "toc_cell": false,
   "toc_position": {},
   "toc_section_display": true,
   "toc_window_display": false
  }
 },
 "nbformat": 4,
 "nbformat_minor": 2
}
